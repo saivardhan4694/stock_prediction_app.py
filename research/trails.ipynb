{
 "cells": [
  {
   "cell_type": "code",
   "execution_count": 1,
   "metadata": {},
   "outputs": [
    {
     "name": "stderr",
     "output_type": "stream",
     "text": [
      "[*********************100%***********************]  1 of 1 completed"
     ]
    },
    {
     "name": "stdout",
     "output_type": "stream",
     "text": [
      "Price                      Adj Close      Close       High        Low  \\\n",
      "Ticker                          NVDA       NVDA       NVDA       NVDA   \n",
      "Date                                                                    \n",
      "2022-01-03 00:00:00+00:00  30.073057  30.121000  30.711000  29.785000   \n",
      "2022-01-04 00:00:00+00:00  29.243385  29.290001  30.468000  28.349001   \n",
      "2022-01-05 00:00:00+00:00  27.560068  27.604000  29.416000  27.533001   \n",
      "2022-01-06 00:00:00+00:00  28.133154  28.177999  28.438000  27.065001   \n",
      "2022-01-07 00:00:00+00:00  27.203634  27.247000  28.422001  27.056999   \n",
      "...                              ...        ...        ...        ...   \n",
      "2023-12-22 00:00:00+00:00  48.819527  48.830002  49.382999  48.466999   \n",
      "2023-12-26 00:00:00+00:00  49.268425  49.278999  49.599998  48.959999   \n",
      "2023-12-27 00:00:00+00:00  49.406395  49.417000  49.680000  49.084999   \n",
      "2023-12-28 00:00:00+00:00  49.511375  49.521999  49.883999  49.411999   \n",
      "2023-12-29 00:00:00+00:00  49.511375  49.521999  49.997002  48.750999   \n",
      "\n",
      "Price                           Open     Volume  \n",
      "Ticker                          NVDA       NVDA  \n",
      "Date                                             \n",
      "2022-01-03 00:00:00+00:00  29.815001  391547000  \n",
      "2022-01-04 00:00:00+00:00  30.277000  527154000  \n",
      "2022-01-05 00:00:00+00:00  28.948999  498064000  \n",
      "2022-01-06 00:00:00+00:00  27.639999  454186000  \n",
      "2022-01-07 00:00:00+00:00  28.141001  409939000  \n",
      "...                              ...        ...  \n",
      "2023-12-22 00:00:00+00:00  49.195000  252507000  \n",
      "2023-12-26 00:00:00+00:00  48.967999  244200000  \n",
      "2023-12-27 00:00:00+00:00  49.511002  233648000  \n",
      "2023-12-28 00:00:00+00:00  49.643002  246587000  \n",
      "2023-12-29 00:00:00+00:00  49.813000  389293000  \n",
      "\n",
      "[501 rows x 6 columns]\n"
     ]
    },
    {
     "name": "stderr",
     "output_type": "stream",
     "text": [
      "\n"
     ]
    }
   ],
   "source": [
    "import yfinance as yf\n",
    "\n",
    "# Fetch data for NVIDIA\n",
    "df = yf.download(\"NVDA\", start=\"2022-01-01\", end=\"2023-12-31\")\n",
    "print(df)"
   ]
  },
  {
   "cell_type": "code",
   "execution_count": 13,
   "metadata": {},
   "outputs": [
    {
     "name": "stdout",
     "output_type": "stream",
     "text": [
      "<class 'pandas.core.frame.DataFrame'>\n"
     ]
    }
   ],
   "source": [
    "print(type(df))"
   ]
  },
  {
   "cell_type": "code",
   "execution_count": 15,
   "metadata": {},
   "outputs": [
    {
     "name": "stdout",
     "output_type": "stream",
     "text": [
      "<class 'pandas.core.frame.DataFrame'>\n",
      "RangeIndex: 503 entries, 0 to 502\n",
      "Data columns (total 7 columns):\n",
      " #   Column     Non-Null Count  Dtype \n",
      "---  ------     --------------  ----- \n",
      " 0   Price      503 non-null    object\n",
      " 1   Adj Close  502 non-null    object\n",
      " 2   Close      502 non-null    object\n",
      " 3   High       502 non-null    object\n",
      " 4   Low        502 non-null    object\n",
      " 5   Open       502 non-null    object\n",
      " 6   Volume     502 non-null    object\n",
      "dtypes: object(7)\n",
      "memory usage: 27.6+ KB\n",
      "None\n"
     ]
    }
   ],
   "source": [
    "import pandas as pd\n",
    "data = pd.read_csv('data.csv')\n",
    "print(data.info())"
   ]
  },
  {
   "cell_type": "code",
   "execution_count": 2,
   "metadata": {},
   "outputs": [
    {
     "name": "stdout",
     "output_type": "stream",
     "text": [
      "<class 'pandas.core.frame.DataFrame'>\n",
      "DatetimeIndex: 501 entries, 2022-01-03 00:00:00+00:00 to 2023-12-29 00:00:00+00:00\n",
      "Data columns (total 6 columns):\n",
      " #   Column             Non-Null Count  Dtype  \n",
      "---  ------             --------------  -----  \n",
      " 0   (Adj Close, NVDA)  501 non-null    float64\n",
      " 1   (Close, NVDA)      501 non-null    float64\n",
      " 2   (High, NVDA)       501 non-null    float64\n",
      " 3   (Low, NVDA)        501 non-null    float64\n",
      " 4   (Open, NVDA)       501 non-null    float64\n",
      " 5   (Volume, NVDA)     501 non-null    int64  \n",
      "dtypes: float64(5), int64(1)\n",
      "memory usage: 27.4 KB\n"
     ]
    }
   ],
   "source": [
    "df.info()"
   ]
  },
  {
   "cell_type": "code",
   "execution_count": 9,
   "metadata": {},
   "outputs": [
    {
     "data": {
      "text/plain": [
       "[('Adj Close', 'NVDA'),\n",
       " ('Close', 'NVDA'),\n",
       " ('High', 'NVDA'),\n",
       " ('Low', 'NVDA'),\n",
       " ('Open', 'NVDA'),\n",
       " ('Volume', 'NVDA')]"
      ]
     },
     "execution_count": 9,
     "metadata": {},
     "output_type": "execute_result"
    }
   ],
   "source": [
    "columns_list = df.columns.to_list()\n",
    "columns_list"
   ]
  },
  {
   "cell_type": "code",
   "execution_count": 12,
   "metadata": {},
   "outputs": [
    {
     "ename": "AttributeError",
     "evalue": "'DataFrame' object has no attribute 'dtype'",
     "output_type": "error",
     "traceback": [
      "\u001b[1;31m---------------------------------------------------------------------------\u001b[0m",
      "\u001b[1;31mAttributeError\u001b[0m                            Traceback (most recent call last)",
      "\u001b[1;32m~\\AppData\\Local\\Temp\\ipykernel_24988\\2384332466.py\u001b[0m in \u001b[0;36m?\u001b[1;34m()\u001b[0m\n\u001b[1;32m----> 1\u001b[1;33m \u001b[0mdf\u001b[0m\u001b[1;33m[\u001b[0m\u001b[0mcolumns_list\u001b[0m\u001b[1;33m[\u001b[0m\u001b[1;36m0\u001b[0m\u001b[1;33m]\u001b[0m\u001b[1;33m[\u001b[0m\u001b[1;36m0\u001b[0m\u001b[1;33m]\u001b[0m\u001b[1;33m]\u001b[0m\u001b[1;33m.\u001b[0m\u001b[0mdtype\u001b[0m\u001b[1;33m\u001b[0m\u001b[1;33m\u001b[0m\u001b[0m\n\u001b[0m",
      "\u001b[1;32md:\\repositories\\StockPredictorApp\\stockvenv\\lib\\site-packages\\pandas\\core\\generic.py\u001b[0m in \u001b[0;36m?\u001b[1;34m(self, name)\u001b[0m\n\u001b[0;32m   6295\u001b[0m             \u001b[1;32mand\u001b[0m \u001b[0mname\u001b[0m \u001b[1;32mnot\u001b[0m \u001b[1;32min\u001b[0m \u001b[0mself\u001b[0m\u001b[1;33m.\u001b[0m\u001b[0m_accessors\u001b[0m\u001b[1;33m\u001b[0m\u001b[1;33m\u001b[0m\u001b[0m\n\u001b[0;32m   6296\u001b[0m             \u001b[1;32mand\u001b[0m \u001b[0mself\u001b[0m\u001b[1;33m.\u001b[0m\u001b[0m_info_axis\u001b[0m\u001b[1;33m.\u001b[0m\u001b[0m_can_hold_identifiers_and_holds_name\u001b[0m\u001b[1;33m(\u001b[0m\u001b[0mname\u001b[0m\u001b[1;33m)\u001b[0m\u001b[1;33m\u001b[0m\u001b[1;33m\u001b[0m\u001b[0m\n\u001b[0;32m   6297\u001b[0m         ):\n\u001b[0;32m   6298\u001b[0m             \u001b[1;32mreturn\u001b[0m \u001b[0mself\u001b[0m\u001b[1;33m[\u001b[0m\u001b[0mname\u001b[0m\u001b[1;33m]\u001b[0m\u001b[1;33m\u001b[0m\u001b[1;33m\u001b[0m\u001b[0m\n\u001b[1;32m-> 6299\u001b[1;33m         \u001b[1;32mreturn\u001b[0m \u001b[0mobject\u001b[0m\u001b[1;33m.\u001b[0m\u001b[0m__getattribute__\u001b[0m\u001b[1;33m(\u001b[0m\u001b[0mself\u001b[0m\u001b[1;33m,\u001b[0m \u001b[0mname\u001b[0m\u001b[1;33m)\u001b[0m\u001b[1;33m\u001b[0m\u001b[1;33m\u001b[0m\u001b[0m\n\u001b[0m",
      "\u001b[1;31mAttributeError\u001b[0m: 'DataFrame' object has no attribute 'dtype'"
     ]
    }
   ],
   "source": [
    "df[columns_list[0][0]].dtype"
   ]
  },
  {
   "cell_type": "code",
   "execution_count": null,
   "metadata": {},
   "outputs": [
    {
     "data": {
      "text/plain": [
       "dtype('O')"
      ]
     },
     "execution_count": 7,
     "metadata": {},
     "output_type": "execute_result"
    }
   ],
   "source": [
    "for "
   ]
  },
  {
   "cell_type": "code",
   "execution_count": 63,
   "metadata": {},
   "outputs": [],
   "source": [
    "df.reset_index(inplace=True)"
   ]
  },
  {
   "cell_type": "code",
   "execution_count": 64,
   "metadata": {},
   "outputs": [
    {
     "data": {
      "text/html": [
       "<div>\n",
       "<style scoped>\n",
       "    .dataframe tbody tr th:only-of-type {\n",
       "        vertical-align: middle;\n",
       "    }\n",
       "\n",
       "    .dataframe tbody tr th {\n",
       "        vertical-align: top;\n",
       "    }\n",
       "\n",
       "    .dataframe thead tr th {\n",
       "        text-align: left;\n",
       "    }\n",
       "</style>\n",
       "<table border=\"1\" class=\"dataframe\">\n",
       "  <thead>\n",
       "    <tr>\n",
       "      <th>Price</th>\n",
       "      <th>Date</th>\n",
       "      <th>Adj Close</th>\n",
       "      <th>Close</th>\n",
       "      <th>High</th>\n",
       "      <th>Low</th>\n",
       "      <th>Open</th>\n",
       "      <th>Volume</th>\n",
       "    </tr>\n",
       "    <tr>\n",
       "      <th>Ticker</th>\n",
       "      <th></th>\n",
       "      <th>NVDA</th>\n",
       "      <th>NVDA</th>\n",
       "      <th>NVDA</th>\n",
       "      <th>NVDA</th>\n",
       "      <th>NVDA</th>\n",
       "      <th>NVDA</th>\n",
       "    </tr>\n",
       "  </thead>\n",
       "  <tbody>\n",
       "    <tr>\n",
       "      <th>0</th>\n",
       "      <td>2022-01-03 00:00:00+00:00</td>\n",
       "      <td>30.073061</td>\n",
       "      <td>30.121000</td>\n",
       "      <td>30.711000</td>\n",
       "      <td>29.785000</td>\n",
       "      <td>29.815001</td>\n",
       "      <td>391547000</td>\n",
       "    </tr>\n",
       "    <tr>\n",
       "      <th>1</th>\n",
       "      <td>2022-01-04 00:00:00+00:00</td>\n",
       "      <td>29.243383</td>\n",
       "      <td>29.290001</td>\n",
       "      <td>30.468000</td>\n",
       "      <td>28.349001</td>\n",
       "      <td>30.277000</td>\n",
       "      <td>527154000</td>\n",
       "    </tr>\n",
       "    <tr>\n",
       "      <th>2</th>\n",
       "      <td>2022-01-05 00:00:00+00:00</td>\n",
       "      <td>27.560064</td>\n",
       "      <td>27.604000</td>\n",
       "      <td>29.416000</td>\n",
       "      <td>27.533001</td>\n",
       "      <td>28.948999</td>\n",
       "      <td>498064000</td>\n",
       "    </tr>\n",
       "    <tr>\n",
       "      <th>3</th>\n",
       "      <td>2022-01-06 00:00:00+00:00</td>\n",
       "      <td>28.133154</td>\n",
       "      <td>28.177999</td>\n",
       "      <td>28.438000</td>\n",
       "      <td>27.065001</td>\n",
       "      <td>27.639999</td>\n",
       "      <td>454186000</td>\n",
       "    </tr>\n",
       "    <tr>\n",
       "      <th>4</th>\n",
       "      <td>2022-01-07 00:00:00+00:00</td>\n",
       "      <td>27.203634</td>\n",
       "      <td>27.247000</td>\n",
       "      <td>28.422001</td>\n",
       "      <td>27.056999</td>\n",
       "      <td>28.141001</td>\n",
       "      <td>409939000</td>\n",
       "    </tr>\n",
       "  </tbody>\n",
       "</table>\n",
       "</div>"
      ],
      "text/plain": [
       "Price                       Date  Adj Close      Close       High        Low  \\\n",
       "Ticker                                 NVDA       NVDA       NVDA       NVDA   \n",
       "0      2022-01-03 00:00:00+00:00  30.073061  30.121000  30.711000  29.785000   \n",
       "1      2022-01-04 00:00:00+00:00  29.243383  29.290001  30.468000  28.349001   \n",
       "2      2022-01-05 00:00:00+00:00  27.560064  27.604000  29.416000  27.533001   \n",
       "3      2022-01-06 00:00:00+00:00  28.133154  28.177999  28.438000  27.065001   \n",
       "4      2022-01-07 00:00:00+00:00  27.203634  27.247000  28.422001  27.056999   \n",
       "\n",
       "Price        Open     Volume  \n",
       "Ticker       NVDA       NVDA  \n",
       "0       29.815001  391547000  \n",
       "1       30.277000  527154000  \n",
       "2       28.948999  498064000  \n",
       "3       27.639999  454186000  \n",
       "4       28.141001  409939000  "
      ]
     },
     "execution_count": 64,
     "metadata": {},
     "output_type": "execute_result"
    }
   ],
   "source": [
    "df.head()"
   ]
  },
  {
   "cell_type": "code",
   "execution_count": 65,
   "metadata": {},
   "outputs": [],
   "source": [
    "df['lag_1'] = df['Close'].shift(1)\n",
    "df['lag_2'] = df['Close'].shift(2)\n",
    "df['lag_7'] = df['Close'].shift(7)\n",
    "df['lag_30'] = df['Close'].shift(30)\n"
   ]
  },
  {
   "cell_type": "code",
   "execution_count": 66,
   "metadata": {},
   "outputs": [],
   "source": [
    "df['moving_avg_5'] = df['Close'].rolling(window=5).mean()\n",
    "df['moving_avg_10'] = df['Close'].rolling(window=10).mean()\n",
    "df['moving_avg_30'] = df['Close'].rolling(window=30).mean()"
   ]
  },
  {
   "cell_type": "code",
   "execution_count": 67,
   "metadata": {},
   "outputs": [
    {
     "name": "stdout",
     "output_type": "stream",
     "text": [
      "Price                       Date  Adj Close      Close       High        Low  \\\n",
      "Ticker                                 NVDA       NVDA       NVDA       NVDA   \n",
      "0      2022-01-03 00:00:00+00:00  30.073061  30.121000  30.711000  29.785000   \n",
      "1      2022-01-04 00:00:00+00:00  29.243383  29.290001  30.468000  28.349001   \n",
      "2      2022-01-05 00:00:00+00:00  27.560064  27.604000  29.416000  27.533001   \n",
      "3      2022-01-06 00:00:00+00:00  28.133154  28.177999  28.438000  27.065001   \n",
      "4      2022-01-07 00:00:00+00:00  27.203634  27.247000  28.422001  27.056999   \n",
      "\n",
      "Price        Open     Volume      lag_1      lag_2 lag_7 lag_30 moving_avg_5  \\\n",
      "Ticker       NVDA       NVDA                                                   \n",
      "0       29.815001  391547000        NaN        NaN   NaN    NaN          NaN   \n",
      "1       30.277000  527154000  30.121000        NaN   NaN    NaN          NaN   \n",
      "2       28.948999  498064000  29.290001  30.121000   NaN    NaN          NaN   \n",
      "3       27.639999  454186000  27.604000  29.290001   NaN    NaN          NaN   \n",
      "4       28.141001  409939000  28.177999  27.604000   NaN    NaN       28.488   \n",
      "\n",
      "Price  moving_avg_10 moving_avg_30  \n",
      "Ticker                              \n",
      "0                NaN           NaN  \n",
      "1                NaN           NaN  \n",
      "2                NaN           NaN  \n",
      "3                NaN           NaN  \n",
      "4                NaN           NaN  \n"
     ]
    }
   ],
   "source": [
    "print(df.head())"
   ]
  },
  {
   "cell_type": "code",
   "execution_count": 68,
   "metadata": {},
   "outputs": [],
   "source": [
    "df['volatility_5'] = df['Close'].rolling(window=5).std()\n",
    "df['volatility_10'] = df['Close'].rolling(window=10).std()"
   ]
  },
  {
   "cell_type": "code",
   "execution_count": 69,
   "metadata": {},
   "outputs": [],
   "source": [
    "def calculate_rsi(df, window=14):\n",
    "    delta = df['Close'].diff()\n",
    "    gain = (delta.where(delta > 0, 0)).rolling(window=window).mean()\n",
    "    loss = (-delta.where(delta < 0, 0)).rolling(window=window).mean()\n",
    "    rs = gain / loss\n",
    "    rsi = 100 - (100 / (1 + rs))\n",
    "    return rsi\n",
    "\n",
    "df['rsi'] = calculate_rsi(df)\n"
   ]
  },
  {
   "cell_type": "code",
   "execution_count": 70,
   "metadata": {},
   "outputs": [],
   "source": [
    "df['macd'] = df['Close'].ewm(span=12, adjust=False).mean() - df['Close'].ewm(span=26, adjust=False).mean()\n",
    "df['macd_signal'] = df['macd'].ewm(span=9, adjust=False).mean()\n"
   ]
  },
  {
   "cell_type": "code",
   "execution_count": 71,
   "metadata": {},
   "outputs": [],
   "source": [
    "df['price_change_pct'] = df['Close'].pct_change() * 100"
   ]
  },
  {
   "cell_type": "code",
   "execution_count": 72,
   "metadata": {},
   "outputs": [
    {
     "data": {
      "text/plain": [
       "MultiIndex([(            'Date',     ''),\n",
       "            (       'Adj Close', 'NVDA'),\n",
       "            (           'Close', 'NVDA'),\n",
       "            (            'High', 'NVDA'),\n",
       "            (             'Low', 'NVDA'),\n",
       "            (            'Open', 'NVDA'),\n",
       "            (          'Volume', 'NVDA'),\n",
       "            (           'lag_1',     ''),\n",
       "            (           'lag_2',     ''),\n",
       "            (           'lag_7',     ''),\n",
       "            (          'lag_30',     ''),\n",
       "            (    'moving_avg_5',     ''),\n",
       "            (   'moving_avg_10',     ''),\n",
       "            (   'moving_avg_30',     ''),\n",
       "            (    'volatility_5',     ''),\n",
       "            (   'volatility_10',     ''),\n",
       "            (             'rsi',     ''),\n",
       "            (            'macd',     ''),\n",
       "            (     'macd_signal',     ''),\n",
       "            ('price_change_pct',     '')],\n",
       "           names=['Price', 'Ticker'])"
      ]
     },
     "execution_count": 72,
     "metadata": {},
     "output_type": "execute_result"
    }
   ],
   "source": [
    "df.columns"
   ]
  },
  {
   "cell_type": "code",
   "execution_count": 73,
   "metadata": {},
   "outputs": [],
   "source": [
    "df['day_of_week'] = df['Date'].dt.dayofweek\n"
   ]
  },
  {
   "cell_type": "code",
   "execution_count": 74,
   "metadata": {},
   "outputs": [],
   "source": [
    "df['true_range'] = df['High'] - df['Low']\n",
    "df['atr'] = df['true_range'].rolling(window=14).mean()  # 14-day ATR\n"
   ]
  },
  {
   "cell_type": "code",
   "execution_count": 75,
   "metadata": {},
   "outputs": [],
   "source": [
    "# Calculate the rolling standard deviation\n",
    "df['rolling_std_10'] = df['Close'].rolling(window=10).std()\n",
    "\n",
    "# Calculate Bollinger Bands\n",
    "df['bollinger_upper'] = df['moving_avg_10'] + (df['rolling_std_10'] * 2)\n",
    "df['bollinger_lower'] = df['moving_avg_10'] - (df['rolling_std_10'] * 2)\n"
   ]
  },
  {
   "cell_type": "code",
   "execution_count": 76,
   "metadata": {},
   "outputs": [],
   "source": [
    "df['ema_10'] = df['Close'].ewm(span=10, adjust=False).mean()\n"
   ]
  },
  {
   "cell_type": "code",
   "execution_count": 77,
   "metadata": {},
   "outputs": [],
   "source": [
    "df['target_10'] = df['Close'].shift(-10)  # Target for 10 days ahead\n",
    "df['target_30'] = df['Close'].shift(-30)  # Target for 30 days ahead\n"
   ]
  },
  {
   "cell_type": "code",
   "execution_count": 78,
   "metadata": {},
   "outputs": [
    {
     "name": "stdout",
     "output_type": "stream",
     "text": [
      "Price             Ticker\n",
      "Date                         0\n",
      "Adj Close         NVDA       0\n",
      "Close             NVDA       0\n",
      "High              NVDA       0\n",
      "Low               NVDA       0\n",
      "Open              NVDA       0\n",
      "Volume            NVDA       0\n",
      "lag_1                        1\n",
      "lag_2                        2\n",
      "lag_7                        7\n",
      "lag_30                      30\n",
      "moving_avg_5                 4\n",
      "moving_avg_10                9\n",
      "moving_avg_30               29\n",
      "volatility_5                 4\n",
      "volatility_10                9\n",
      "rsi                         13\n",
      "macd                         0\n",
      "macd_signal                  0\n",
      "price_change_pct             1\n",
      "day_of_week                  0\n",
      "true_range                   0\n",
      "atr                         13\n",
      "rolling_std_10               9\n",
      "bollinger_upper              9\n",
      "bollinger_lower              9\n",
      "ema_10                       0\n",
      "target_10                   10\n",
      "target_30                   30\n",
      "dtype: int64\n"
     ]
    }
   ],
   "source": [
    "print(df.isnull().sum())\n"
   ]
  },
  {
   "cell_type": "code",
   "execution_count": 79,
   "metadata": {},
   "outputs": [
    {
     "name": "stdout",
     "output_type": "stream",
     "text": [
      "Price             Ticker\n",
      "Date                        0.000000\n",
      "Adj Close         NVDA      0.000000\n",
      "Close             NVDA      0.000000\n",
      "High              NVDA      0.000000\n",
      "Low               NVDA      0.000000\n",
      "Open              NVDA      0.000000\n",
      "Volume            NVDA      0.000000\n",
      "lag_1                       0.199601\n",
      "lag_2                       0.399202\n",
      "lag_7                       1.397206\n",
      "lag_30                      5.988024\n",
      "moving_avg_5                0.798403\n",
      "moving_avg_10               1.796407\n",
      "moving_avg_30               5.788423\n",
      "volatility_5                0.798403\n",
      "volatility_10               1.796407\n",
      "rsi                         2.594810\n",
      "macd                        0.000000\n",
      "macd_signal                 0.000000\n",
      "price_change_pct            0.199601\n",
      "day_of_week                 0.000000\n",
      "true_range                  0.000000\n",
      "atr                         2.594810\n",
      "rolling_std_10              1.796407\n",
      "bollinger_upper             1.796407\n",
      "bollinger_lower             1.796407\n",
      "ema_10                      0.000000\n",
      "target_10                   1.996008\n",
      "target_30                   5.988024\n",
      "dtype: float64\n"
     ]
    }
   ],
   "source": [
    "missing_percentage = df.isnull().mean() * 100\n",
    "print(missing_percentage)\n"
   ]
  },
  {
   "cell_type": "code",
   "execution_count": 18,
   "metadata": {},
   "outputs": [],
   "source": [
    "import pandas as pd\n",
    "dataframe = pd.read_csv(r\"D:\\repositories\\StockPredictorApp\\artifacts\\data_ingestion\\raw_data.csv\")"
   ]
  },
  {
   "cell_type": "code",
   "execution_count": 19,
   "metadata": {},
   "outputs": [
    {
     "name": "stdout",
     "output_type": "stream",
     "text": [
      "                        Date  Adj Close      Close       High        Low  \\\n",
      "0  2022-01-03 00:00:00+00:00  30.073061  30.121000  30.711000  29.785000   \n",
      "1  2022-01-04 00:00:00+00:00  29.243383  29.290001  30.468000  28.349001   \n",
      "2  2022-01-05 00:00:00+00:00  27.560066  27.604000  29.416000  27.533001   \n",
      "3  2022-01-06 00:00:00+00:00  28.133154  28.177999  28.438000  27.065001   \n",
      "4  2022-01-07 00:00:00+00:00  27.203630  27.247000  28.422001  27.056999   \n",
      "\n",
      "        Open     Volume  \n",
      "0  29.815001  391547000  \n",
      "1  30.277000  527154000  \n",
      "2  28.948999  498064000  \n",
      "3  27.639999  454186000  \n",
      "4  28.141001  409939000  \n",
      "<class 'pandas.core.frame.DataFrame'>\n",
      "RangeIndex: 501 entries, 0 to 500\n",
      "Data columns (total 7 columns):\n",
      " #   Column     Non-Null Count  Dtype  \n",
      "---  ------     --------------  -----  \n",
      " 0   Date       501 non-null    object \n",
      " 1   Adj Close  501 non-null    float64\n",
      " 2   Close      501 non-null    float64\n",
      " 3   High       501 non-null    float64\n",
      " 4   Low        501 non-null    float64\n",
      " 5   Open       501 non-null    float64\n",
      " 6   Volume     501 non-null    int64  \n",
      "dtypes: float64(5), int64(1), object(1)\n",
      "memory usage: 27.5+ KB\n",
      "None\n"
     ]
    }
   ],
   "source": [
    "print(dataframe.head())\n",
    "print(dataframe.info())"
   ]
  },
  {
   "cell_type": "code",
   "execution_count": 17,
   "metadata": {},
   "outputs": [
    {
     "name": "stdout",
     "output_type": "stream",
     "text": [
      "<class 'pandas.core.frame.DataFrame'>\n",
      "RangeIndex: 502 entries, 0 to 501\n",
      "Data columns (total 7 columns):\n",
      " #   Column     Non-Null Count  Dtype  \n",
      "---  ------     --------------  -----  \n",
      " 0   Date       0 non-null      float64\n",
      " 1   Adj Close  501 non-null    float64\n",
      " 2   Close      501 non-null    float64\n",
      " 3   High       501 non-null    float64\n",
      " 4   Low        501 non-null    float64\n",
      " 5   Open       501 non-null    float64\n",
      " 6   Volume     501 non-null    float64\n",
      "dtypes: float64(7)\n",
      "memory usage: 27.6 KB\n",
      "None\n"
     ]
    }
   ],
   "source": [
    "# Convert specific columns to numeric\n",
    "columns_to_convert = ['Date', 'Adj Close', 'Close', 'High', 'Low', 'Open', 'Volume']\n",
    "for col in columns_to_convert:\n",
    "    dataframe[col] = pd.to_numeric(dataframe[col], errors='coerce')\n",
    "\n",
    "# Check the data types\n",
    "print(dataframe.info())\n"
   ]
  },
  {
   "cell_type": "code",
   "execution_count": 10,
   "metadata": {},
   "outputs": [
    {
     "data": {
      "text/plain": [
       "Index(['Adj Close', 'Close', 'High', 'Low', 'Open', 'Volume'], dtype='object')"
      ]
     },
     "execution_count": 10,
     "metadata": {},
     "output_type": "execute_result"
    }
   ],
   "source": [
    "dataframe.columns"
   ]
  },
  {
   "cell_type": "code",
   "execution_count": 13,
   "metadata": {},
   "outputs": [
    {
     "name": "stdout",
     "output_type": "stream",
     "text": [
      "Adj Close    2.756007e+01\n",
      "Close        2.760400e+01\n",
      "High         2.941600e+01\n",
      "Low          2.753300e+01\n",
      "Open         2.894900e+01\n",
      "Volume       4.980640e+08\n",
      "Name: 1, dtype: float64\n"
     ]
    }
   ],
   "source": [
    "second_row = dataframe.iloc[1]\n",
    "print(second_row)\n"
   ]
  },
  {
   "cell_type": "code",
   "execution_count": 4,
   "metadata": {},
   "outputs": [
    {
     "name": "stdout",
     "output_type": "stream",
     "text": [
      "            Adj Close               Close                High  \\\n",
      "0   29.24338722229004  29.290000915527344  30.468000411987305   \n",
      "1  27.560068130493164  27.604000091552734  29.416000366210938   \n",
      "2   28.13315200805664   28.17799949645996  28.437999725341797   \n",
      "3  27.203632354736328  27.246999740600586  28.422000885009766   \n",
      "4   27.35638999938965  27.399999618530273    27.4689998626709   \n",
      "\n",
      "                  Low                Open     Volume  \n",
      "0  28.349000930786133  30.277000427246094  527154000  \n",
      "1  27.533000946044922  28.948999404907227  498064000  \n",
      "2  27.065000534057617  27.639999389648438  454186000  \n",
      "3   27.05699920654297  28.141000747680664  409939000  \n",
      "4  25.643999099731445   26.58099937438965  594681000  \n"
     ]
    }
   ],
   "source": [
    "print(dataframe.head())\n"
   ]
  },
  {
   "cell_type": "code",
   "execution_count": 20,
   "metadata": {},
   "outputs": [
    {
     "name": "stderr",
     "output_type": "stream",
     "text": [
      "[*********************100%***********************]  1 of 1 completed"
     ]
    },
    {
     "name": "stdout",
     "output_type": "stream",
     "text": [
      "Price                      Adj Close      Close       High        Low  \\\n",
      "Ticker                          NVDA       NVDA       NVDA       NVDA   \n",
      "Date                                                                    \n",
      "2022-01-03 00:00:00+00:00  30.073061  30.121000  30.711000  29.785000   \n",
      "2022-01-04 00:00:00+00:00  29.243385  29.290001  30.468000  28.349001   \n",
      "2022-01-05 00:00:00+00:00  27.560066  27.604000  29.416000  27.533001   \n",
      "2022-01-06 00:00:00+00:00  28.133150  28.177999  28.438000  27.065001   \n",
      "2022-01-07 00:00:00+00:00  27.203634  27.247000  28.422001  27.056999   \n",
      "\n",
      "Price                           Open     Volume  \n",
      "Ticker                          NVDA       NVDA  \n",
      "Date                                             \n",
      "2022-01-03 00:00:00+00:00  29.815001  391547000  \n",
      "2022-01-04 00:00:00+00:00  30.277000  527154000  \n",
      "2022-01-05 00:00:00+00:00  28.948999  498064000  \n",
      "2022-01-06 00:00:00+00:00  27.639999  454186000  \n",
      "2022-01-07 00:00:00+00:00  28.141001  409939000  \n"
     ]
    },
    {
     "name": "stderr",
     "output_type": "stream",
     "text": [
      "\n"
     ]
    }
   ],
   "source": [
    "import yfinance as yf\n",
    "\n",
    "# Fetch data for a single stock\n",
    "stock_name = \"NVDA\"\n",
    "start_date = \"2022-01-01\"\n",
    "end_date = \"2022-12-31\"\n",
    "\n",
    "stock_dataframe = yf.download(stock_name, start=start_date, end=end_date)\n",
    "\n",
    "# Print the DataFrame to ensure no unwanted columns\n",
    "print(stock_dataframe.head())\n"
   ]
  },
  {
   "cell_type": "code",
   "execution_count": 21,
   "metadata": {},
   "outputs": [
    {
     "name": "stderr",
     "output_type": "stream",
     "text": [
      "[*********************100%***********************]  2 of 2 completed"
     ]
    },
    {
     "name": "stdout",
     "output_type": "stream",
     "text": [
      "Price                           Open       High        Low      Close  \\\n",
      "Date                                                                    \n",
      "2022-01-03 00:00:00+00:00  29.815001  30.711000  29.785000  30.121000   \n",
      "2022-01-04 00:00:00+00:00  30.277000  30.468000  28.349001  29.290001   \n",
      "2022-01-05 00:00:00+00:00  28.948999  29.416000  27.533001  27.604000   \n",
      "2022-01-06 00:00:00+00:00  27.639999  28.438000  27.065001  28.177999   \n",
      "2022-01-07 00:00:00+00:00  28.141001  28.422001  27.056999  27.247000   \n",
      "\n",
      "Price                      Adj Close     Volume  \n",
      "Date                                             \n",
      "2022-01-03 00:00:00+00:00  30.073061  391547000  \n",
      "2022-01-04 00:00:00+00:00  29.243385  527154000  \n",
      "2022-01-05 00:00:00+00:00  27.560066  498064000  \n",
      "2022-01-06 00:00:00+00:00  28.133150  454186000  \n",
      "2022-01-07 00:00:00+00:00  27.203634  409939000  \n"
     ]
    },
    {
     "name": "stderr",
     "output_type": "stream",
     "text": [
      "\n"
     ]
    }
   ],
   "source": [
    "import yfinance as yf\n",
    "\n",
    "# Fetch data for multiple stocks\n",
    "stock_name = [\"NVDA\", \"AAPL\"]\n",
    "start_date = \"2022-01-01\"\n",
    "end_date = \"2022-12-31\"\n",
    "\n",
    "stock_dataframe = yf.download(stock_name, start=start_date, end=end_date, group_by='ticker')\n",
    "\n",
    "# Remove multi-index if present\n",
    "if isinstance(stock_dataframe.columns, pd.MultiIndex):\n",
    "    stock_dataframe = stock_dataframe['NVDA']  # Access data for NVDA\n",
    "\n",
    "print(stock_dataframe.head())\n"
   ]
  },
  {
   "cell_type": "code",
   "execution_count": null,
   "metadata": {},
   "outputs": [],
   "source": []
  }
 ],
 "metadata": {
  "kernelspec": {
   "display_name": "Python 3",
   "language": "python",
   "name": "python3"
  },
  "language_info": {
   "codemirror_mode": {
    "name": "ipython",
    "version": 3
   },
   "file_extension": ".py",
   "mimetype": "text/x-python",
   "name": "python",
   "nbconvert_exporter": "python",
   "pygments_lexer": "ipython3",
   "version": "3.12.4"
  }
 },
 "nbformat": 4,
 "nbformat_minor": 2
}
