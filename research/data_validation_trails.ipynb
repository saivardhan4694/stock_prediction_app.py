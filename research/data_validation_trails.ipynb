{
 "cells": [
  {
   "cell_type": "code",
   "execution_count": 1,
   "metadata": {},
   "outputs": [],
   "source": [
    "from dataclasses import dataclass\n",
    "from pathlib import Path\n",
    "\n",
    "\n",
    "@dataclass\n",
    "class DataValidationConfig:\n",
    "    root_dir: Path\n",
    "    validation_input: Path\n",
    "    num_of_columns: int\n",
    "    validation_schema: dict\n",
    "    validation_report_path: Path\n",
    "    validation_output_path: Path"
   ]
  },
  {
   "cell_type": "code",
   "execution_count": 2,
   "metadata": {},
   "outputs": [
    {
     "name": "stdout",
     "output_type": "stream",
     "text": [
      "D:\\repositories\\StockPredictorApp\n"
     ]
    }
   ],
   "source": [
    "import os\n",
    "os.chdir(r'D:\\repositories\\StockPredictorApp')  # Replace with your project root's absolute path\n",
    "print(os.getcwd())  # Verify the working directory\n"
   ]
  },
  {
   "cell_type": "code",
   "execution_count": 3,
   "metadata": {},
   "outputs": [
    {
     "name": "stdout",
     "output_type": "stream",
     "text": [
      "[2024-11-23 11:27:51,890: INFO: common: yaml file: D:\\repositories\\StockPredictorApp\\config\\config.yaml loaded successfully]\n",
      "[2024-11-23 11:27:51,891: INFO: common: Directory artifacts/data_validation created successfully]\n"
     ]
    }
   ],
   "source": [
    "from src.stockpredictor.utils.common import create_directories\n",
    "from src.stockpredictor.constants.__init import *\n",
    "from src.stockpredictor.utils.common import read_yaml, create_directories\n",
    "class ConfigurationManager:\n",
    "    def __init__(self, \n",
    "                 config_filepath = CONFIG_FILE_PATH,\n",
    "                 params_filepath = PARAMS_FILE_PATH) -> None:\n",
    "        \n",
    "        self.config = read_yaml(config_filepath)\n",
    "        #self.params = read_yaml(params_filepath)\n",
    "\n",
    "        #create_directories([self.config.artifacts_root])\n",
    "\n",
    "    def get_data_validation_config(self):\n",
    "        config = self.config.data_validation\n",
    "\n",
    "        create_directories([config.root_dir])\n",
    "\n",
    "        data_validation_config = DataValidationConfig(\n",
    "            root_dir= config.root_dir,\n",
    "            validation_input= config.validation_input,\n",
    "            num_of_columns= config.num_of_columns,\n",
    "            validation_schema = config.validation_schema,\n",
    "            validation_report_path = config.validation_report_path,\n",
    "            validation_output_path= config.validation_output_path\n",
    "        )\n",
    "\n",
    "        return data_validation_config\n",
    "    \n",
    "data_val_config = ConfigurationManager().get_data_validation_config()"
   ]
  },
  {
   "cell_type": "code",
   "execution_count": 7,
   "metadata": {},
   "outputs": [
    {
     "name": "stdout",
     "output_type": "stream",
     "text": [
      "[2024-11-23 11:43:56,946: INFO: 3381893042: Data validation successful. Report saved to artifacts/data_validation/validation_report.txt]\n"
     ]
    },
    {
     "name": "stdout",
     "output_type": "stream",
     "text": [
      "Validation status written to artifacts/data_validation/validation_report.txt\n"
     ]
    }
   ],
   "source": [
    "import os\n",
    "from pathlib import Path\n",
    "import yfinance as yf\n",
    "from src.stockpredictor.utils.common import save_as_csv\n",
    "from src.stockpredictor.logging.coustom_log import logger\n",
    "from src.stockpredictor.entity import DataValidationConfig\n",
    "import pandas as pd\n",
    "\n",
    "class DataValidation:\n",
    "    def __init__(self, config: DataValidationConfig) -> None:\n",
    "        self.config = config\n",
    "\n",
    "    \n",
    "    def validate_data(self):\n",
    "        try:\n",
    "            # read the data from csv\n",
    "            raw_data = pd.read_csv(self.config.validation_input,  parse_dates=['Date'])\n",
    "            validation_status = True\n",
    "\n",
    "            # check if no.of colums are correct\n",
    "            validation_status = {}\n",
    "\n",
    "            for column, expected_dtype in self.config.validation_schema.items():\n",
    "                if column not in raw_data.columns:\n",
    "                    validation_status[column] = False\n",
    "                    continue  # Skip further checks for missing columns\n",
    "\n",
    "                actual_dtype = raw_data[column].dtype\n",
    "                if expected_dtype == 'datetime':\n",
    "                    validation_status[column] = pd.api.types.is_datetime64_any_dtype(actual_dtype)\n",
    "                elif expected_dtype == 'float':\n",
    "                    validation_status[column] = pd.api.types.is_float_dtype(actual_dtype)\n",
    "                elif expected_dtype == 'int':\n",
    "                    validation_status[column] = pd.api.types.is_integer_dtype(actual_dtype)\n",
    "                else:\n",
    "                    validation_status[column] = False  \n",
    "\n",
    "            # Check the overall validation status\n",
    "            overall_status = all(validation_status.values())\n",
    "\n",
    "            # Prepare the content to write to the file\n",
    "            output_lines = []\n",
    "            output_lines.append(f\"Overall Validation Status: {'Success' if overall_status else 'Failure'}\\n\")\n",
    "            output_lines.append(\"Column-wise Validation Status:\\n\")\n",
    "            for col, status in validation_status.items():\n",
    "                output_lines.append(f\" - {col}: {'Passed' if status else 'Failed'}\\n\")\n",
    "\n",
    "            # Write to the file file\n",
    "            output_file = self.config.validation_report_path\n",
    "            with open(output_file, \"w\") as f:\n",
    "                f.writelines(output_lines)\n",
    "\n",
    "            if overall_status:\n",
    "                logger.info(f\"Data validation successful. Report saved to {output_file}\")\n",
    "                raw_data.to_csv(self.config.validation_output_path)\n",
    "            print(f\"Validation status written to {output_file}\")\n",
    "\n",
    "        except Exception as e:\n",
    "            raise e\n",
    "        \n",
    "data_val = DataValidation(data_val_config)\n",
    "data_val.validate_data()"
   ]
  }
 ],
 "metadata": {
  "kernelspec": {
   "display_name": "Python 3",
   "language": "python",
   "name": "python3"
  },
  "language_info": {
   "codemirror_mode": {
    "name": "ipython",
    "version": 3
   },
   "file_extension": ".py",
   "mimetype": "text/x-python",
   "name": "python",
   "nbconvert_exporter": "python",
   "pygments_lexer": "ipython3",
   "version": "3.10.15"
  }
 },
 "nbformat": 4,
 "nbformat_minor": 2
}
